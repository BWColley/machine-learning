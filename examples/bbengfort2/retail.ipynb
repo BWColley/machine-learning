{
 "cells": [
  {
   "cell_type": "code",
   "execution_count": null,
   "metadata": {
    "collapsed": true
   },
   "outputs": [],
   "source": [
    "%matplotlib inline\n",
    "\n",
    "import os\n",
    "import json \n",
    "import requests\n",
    "\n",
    "import pandas as pd\n",
    "import numpy as np"
   ]
  },
  {
   "cell_type": "code",
   "execution_count": null,
   "metadata": {
    "collapsed": true
   },
   "outputs": [],
   "source": [
    "## Download Data\n",
    "BASE = os.path.abspath(os.path.join('.', 'data'))\n",
    "URL  = \"http://archive.ics.uci.edu/ml/machine-learning-databases/00352/Online%20Retail.xlsx\"\n",
    "\n",
    "def fetch_file(url=URL, name='online_retail.xlsx', base=BASE):\n",
    "    \"\"\"\n",
    "    Fetch the data from the url and save it to the name in the base directory.\n",
    "    \"\"\"\n",
    "    # Construct the path to save the data to \n",
    "    path = os.path.join(base, name)\n",
    "    if os.path.exists(path): raise Exception(\"Data is already donwloaded!\")\n",
    "    \n",
    "    # Fetch the URL qith requests.py\n",
    "    response = requests.get(url)\n",
    "    response.raise_for_status() \n",
    "    \n",
    "    with open(path, 'w') as f:\n",
    "        f.write(response.content)\n",
    "\n",
    "# Uncomment below if you want to fetch the data \n",
    "# fetch_file()"
   ]
  },
  {
   "cell_type": "code",
   "execution_count": null,
   "metadata": {
    "collapsed": false
   },
   "outputs": [],
   "source": [
    "DATA = os.path.join(BASE, 'online_retail.xlsx')\n",
    "\n",
    "## Load the data frame for data exploration \n",
    "df = pd.read_excel(DATA)"
   ]
  },
  {
   "cell_type": "code",
   "execution_count": null,
   "metadata": {
    "collapsed": false
   },
   "outputs": [],
   "source": [
    "df.Description = df.Description.replace(np.nan,' ', regex=True)\n",
    "df.Description = df.Description.astype(unicode)"
   ]
  },
  {
   "cell_type": "code",
   "execution_count": null,
   "metadata": {
    "collapsed": false
   },
   "outputs": [],
   "source": [
    "df"
   ]
  },
  {
   "cell_type": "code",
   "execution_count": null,
   "metadata": {
    "collapsed": true
   },
   "outputs": [],
   "source": [
    "from sklearn.base import BaseEstimator, TransformerMixin \n",
    "\n",
    "class ColumnSelector(BaseEstimator, TransformerMixin):\n",
    "    \n",
    "    def __init__(self, column):\n",
    "        self.column = column \n",
    "        \n",
    "    def fit(self, X, y=None):\n",
    "        return self \n",
    "\n",
    "    def transform(self, df):\n",
    "        \"\"\"\n",
    "        Expects a dataframe that contains the specified column. Returns only that column.\n",
    "        \"\"\"\n",
    "        if self.column not in df.columns:\n",
    "            raise Exception(\"Could not extract the '{}' column!\".format(self.column))\n",
    "        return df[self.column].values"
   ]
  },
  {
   "cell_type": "code",
   "execution_count": null,
   "metadata": {
    "collapsed": false
   },
   "outputs": [],
   "source": [
    "class LabelEncoder(BaseEstimator, TransformerMixin):\n",
    "    \n",
    "    def fit(self, X, y=None):\n",
    "        self.classes_ = np.unique(X)\n",
    "        return self\n",
    "\n",
    "    def fit_transform(self, X, y=None):\n",
    "        self.fit(X, y)\n",
    "        return self.transform(X)\n",
    "\n",
    "    def transform(self, X):\n",
    "        classes = np.unique(X)\n",
    "        if len(np.intersect1d(classes, self.classes_)) < len(classes):\n",
    "            diff = np.setdiff1d(classes, self.classes_)\n",
    "            raise ValueError(\"y contains new labels: %s\" % str(diff))\n",
    "        return np.searchsorted(self.classes_, X)\n",
    "\n",
    "    def inverse_transform(self, X):\n",
    "        diff = np.setdiff1d(X, np.arange(len(self.classes_)))\n",
    "        if diff:\n",
    "            raise ValueError(\"y contains new labels: %s\" % str(diff))\n",
    "        X = np.asarray(X)\n",
    "        return self.classes_[X]\n",
    "    \n",
    "\n",
    "class TwoD(BaseEstimator, TransformerMixin):\n",
    "    \n",
    "    def fit(self, X, y=None):\n",
    "        return self \n",
    "\n",
    "    def transform(self, X):\n",
    "        return np.asarray([\n",
    "            [x] for x in X\n",
    "        ])"
   ]
  },
  {
   "cell_type": "code",
   "execution_count": null,
   "metadata": {
    "collapsed": false
   },
   "outputs": [],
   "source": [
    "from sklearn.pipeline import Pipeline, FeatureUnion\n",
    "from sklearn.preprocessing import Imputer\n",
    "from sklearn.feature_extraction.text import TfidfVectorizer \n",
    "from sklearn.neighbors import NearestNeighbors\n",
    "\n",
    "\n",
    "# Set up a feature extraction pipeline. \n",
    "model = Pipeline([\n",
    "    ('columns', FeatureUnion(\n",
    "        transformer_list = [\n",
    "            \n",
    "            ('description', Pipeline([\n",
    "                ('select', ColumnSelector('Description')), \n",
    "                ('tfidf', TfidfVectorizer()), \n",
    "            ])), \n",
    "                    \n",
    "            ('country', Pipeline([\n",
    "                ('select', ColumnSelector('Country')), \n",
    "                ('vect', LabelEncoder()),\n",
    "                ('2d', TwoD()),\n",
    "            ])), \n",
    "                    \n",
    "            ('price', Pipeline([\n",
    "                ('select', ColumnSelector('UnitPrice')), \n",
    "                ('2d', TwoD()),\n",
    "                ('impute', Imputer(np.nan, 'mean')),\n",
    "            ])),\n",
    "                    \n",
    "            ('customer', Pipeline([\n",
    "                ('select', ColumnSelector('CustomerID')),\n",
    "                ('2d', TwoD()),\n",
    "                ('impute', Imputer(np.nan, 'mean')),\n",
    "            ])),\n",
    "                    \n",
    "            \n",
    "        ],\n",
    "                \n",
    "        transformer_weights = {\n",
    "            'description': 0.4, \n",
    "            'country': 0.1, \n",
    "            'price': 0.1, \n",
    "            'customer': 0.4,\n",
    "        },\n",
    "    )),\n",
    "        \n",
    "    ('neighbors', NearestNeighbors(k=15)), \n",
    "    \n",
    "])\n",
    "\n",
    "model = model.fit(df)"
   ]
  },
  {
   "cell_type": "code",
   "execution_count": null,
   "metadata": {
    "collapsed": true
   },
   "outputs": [],
   "source": [
    "import pickle \n",
    "\n",
    "model_path = os.path.join(BASE, 'neighbors.pickle')\n",
    "with open(model_path, 'wb') as f:\n",
    "    pickle.dump(model, f)"
   ]
  },
  {
   "cell_type": "code",
   "execution_count": null,
   "metadata": {
    "collapsed": false
   },
   "outputs": [],
   "source": [
    "model.steps[-1][-1].kneighbors_graph()"
   ]
  }
 ],
 "metadata": {
  "kernelspec": {
   "display_name": "Python 2",
   "language": "python",
   "name": "python2"
  },
  "language_info": {
   "codemirror_mode": {
    "name": "ipython",
    "version": 2
   },
   "file_extension": ".py",
   "mimetype": "text/x-python",
   "name": "python",
   "nbconvert_exporter": "python",
   "pygments_lexer": "ipython2",
   "version": "2.7.11"
  }
 },
 "nbformat": 4,
 "nbformat_minor": 0
}
