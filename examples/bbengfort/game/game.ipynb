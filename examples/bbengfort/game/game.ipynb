{
 "cells": [
  {
   "cell_type": "markdown",
   "metadata": {},
   "source": [
    "# Game Classifier"
   ]
  },
  {
   "cell_type": "code",
   "execution_count": 1,
   "metadata": {
    "collapsed": true
   },
   "outputs": [],
   "source": [
    "%matplotlib inline\n",
    "\n",
    "import os\n",
    "\n",
    "import numpy as np\n",
    "import pandas as pd \n",
    "import seaborn as sns\n",
    "import matplotlib.pyplot as plt "
   ]
  },
  {
   "cell_type": "code",
   "execution_count": 2,
   "metadata": {},
   "outputs": [],
   "source": [
    "data = pd.read_csv('game/game.csv')"
   ]
  },
  {
   "cell_type": "code",
   "execution_count": 3,
   "metadata": {},
   "outputs": [
    {
     "data": {
      "text/plain": [
       "a1         object\n",
       "a2         object\n",
       "a3         object\n",
       "a4         object\n",
       "a5         object\n",
       "a6         object\n",
       "b1         object\n",
       "b2         object\n",
       "b3         object\n",
       "b4         object\n",
       "b5         object\n",
       "b6         object\n",
       "c1         object\n",
       "c2         object\n",
       "c3         object\n",
       "c4         object\n",
       "c5         object\n",
       "c6         object\n",
       "d1         object\n",
       "d2         object\n",
       "d3         object\n",
       "d4         object\n",
       "d5         object\n",
       "d6         object\n",
       "e1         object\n",
       "e2         object\n",
       "e3         object\n",
       "e4         object\n",
       "e5         object\n",
       "e6         object\n",
       "f1         object\n",
       "f2         object\n",
       "f3         object\n",
       "f4         object\n",
       "f5         object\n",
       "f6         object\n",
       "g1         object\n",
       "g2         object\n",
       "g3         object\n",
       "g4         object\n",
       "g5         object\n",
       "g6         object\n",
       "outcome    object\n",
       "dtype: object"
      ]
     },
     "execution_count": 3,
     "metadata": {},
     "output_type": "execute_result"
    }
   ],
   "source": [
    "data.dtypes"
   ]
  },
  {
   "cell_type": "code",
   "execution_count": 4,
   "metadata": {},
   "outputs": [
    {
     "data": {
      "text/html": [
       "<div>\n",
       "<table border=\"1\" class=\"dataframe\">\n",
       "  <thead>\n",
       "    <tr style=\"text-align: right;\">\n",
       "      <th></th>\n",
       "      <th>a1</th>\n",
       "      <th>a2</th>\n",
       "      <th>a3</th>\n",
       "      <th>a4</th>\n",
       "      <th>a5</th>\n",
       "      <th>a6</th>\n",
       "      <th>b1</th>\n",
       "      <th>b2</th>\n",
       "      <th>b3</th>\n",
       "      <th>b4</th>\n",
       "      <th>...</th>\n",
       "      <th>f4</th>\n",
       "      <th>f5</th>\n",
       "      <th>f6</th>\n",
       "      <th>g1</th>\n",
       "      <th>g2</th>\n",
       "      <th>g3</th>\n",
       "      <th>g4</th>\n",
       "      <th>g5</th>\n",
       "      <th>g6</th>\n",
       "      <th>outcome</th>\n",
       "    </tr>\n",
       "  </thead>\n",
       "  <tbody>\n",
       "    <tr>\n",
       "      <th>count</th>\n",
       "      <td>67557</td>\n",
       "      <td>67557</td>\n",
       "      <td>67557</td>\n",
       "      <td>67557</td>\n",
       "      <td>67557</td>\n",
       "      <td>67557</td>\n",
       "      <td>67557</td>\n",
       "      <td>67557</td>\n",
       "      <td>67557</td>\n",
       "      <td>67557</td>\n",
       "      <td>...</td>\n",
       "      <td>67557</td>\n",
       "      <td>67557</td>\n",
       "      <td>67557</td>\n",
       "      <td>67557</td>\n",
       "      <td>67557</td>\n",
       "      <td>67557</td>\n",
       "      <td>67557</td>\n",
       "      <td>67557</td>\n",
       "      <td>67557</td>\n",
       "      <td>67557</td>\n",
       "    </tr>\n",
       "    <tr>\n",
       "      <th>unique</th>\n",
       "      <td>3</td>\n",
       "      <td>3</td>\n",
       "      <td>3</td>\n",
       "      <td>3</td>\n",
       "      <td>3</td>\n",
       "      <td>3</td>\n",
       "      <td>3</td>\n",
       "      <td>3</td>\n",
       "      <td>3</td>\n",
       "      <td>3</td>\n",
       "      <td>...</td>\n",
       "      <td>3</td>\n",
       "      <td>3</td>\n",
       "      <td>3</td>\n",
       "      <td>3</td>\n",
       "      <td>3</td>\n",
       "      <td>3</td>\n",
       "      <td>3</td>\n",
       "      <td>3</td>\n",
       "      <td>3</td>\n",
       "      <td>3</td>\n",
       "    </tr>\n",
       "    <tr>\n",
       "      <th>top</th>\n",
       "      <td>b</td>\n",
       "      <td>b</td>\n",
       "      <td>b</td>\n",
       "      <td>b</td>\n",
       "      <td>b</td>\n",
       "      <td>b</td>\n",
       "      <td>x</td>\n",
       "      <td>b</td>\n",
       "      <td>b</td>\n",
       "      <td>b</td>\n",
       "      <td>...</td>\n",
       "      <td>b</td>\n",
       "      <td>b</td>\n",
       "      <td>b</td>\n",
       "      <td>b</td>\n",
       "      <td>b</td>\n",
       "      <td>b</td>\n",
       "      <td>b</td>\n",
       "      <td>b</td>\n",
       "      <td>b</td>\n",
       "      <td>win</td>\n",
       "    </tr>\n",
       "    <tr>\n",
       "      <th>freq</th>\n",
       "      <td>24982</td>\n",
       "      <td>43385</td>\n",
       "      <td>55333</td>\n",
       "      <td>61616</td>\n",
       "      <td>65265</td>\n",
       "      <td>67040</td>\n",
       "      <td>25889</td>\n",
       "      <td>41180</td>\n",
       "      <td>54352</td>\n",
       "      <td>61206</td>\n",
       "      <td>...</td>\n",
       "      <td>64839</td>\n",
       "      <td>66819</td>\n",
       "      <td>67469</td>\n",
       "      <td>29729</td>\n",
       "      <td>48104</td>\n",
       "      <td>58869</td>\n",
       "      <td>64301</td>\n",
       "      <td>66710</td>\n",
       "      <td>67465</td>\n",
       "      <td>44473</td>\n",
       "    </tr>\n",
       "  </tbody>\n",
       "</table>\n",
       "<p>4 rows × 43 columns</p>\n",
       "</div>"
      ],
      "text/plain": [
       "           a1     a2     a3     a4     a5     a6     b1     b2     b3     b4  \\\n",
       "count   67557  67557  67557  67557  67557  67557  67557  67557  67557  67557   \n",
       "unique      3      3      3      3      3      3      3      3      3      3   \n",
       "top         b      b      b      b      b      b      x      b      b      b   \n",
       "freq    24982  43385  55333  61616  65265  67040  25889  41180  54352  61206   \n",
       "\n",
       "         ...       f4     f5     f6     g1     g2     g3     g4     g5     g6  \\\n",
       "count    ...    67557  67557  67557  67557  67557  67557  67557  67557  67557   \n",
       "unique   ...        3      3      3      3      3      3      3      3      3   \n",
       "top      ...        b      b      b      b      b      b      b      b      b   \n",
       "freq     ...    64839  66819  67469  29729  48104  58869  64301  66710  67465   \n",
       "\n",
       "       outcome  \n",
       "count    67557  \n",
       "unique       3  \n",
       "top        win  \n",
       "freq     44473  \n",
       "\n",
       "[4 rows x 43 columns]"
      ]
     },
     "execution_count": 4,
     "metadata": {},
     "output_type": "execute_result"
    }
   ],
   "source": [
    "data.describe()"
   ]
  },
  {
   "cell_type": "code",
   "execution_count": 5,
   "metadata": {},
   "outputs": [
    {
     "name": "stdout",
     "output_type": "stream",
     "text": [
      "[2 2 2 ..., 1 0 0]\n"
     ]
    }
   ],
   "source": [
    "from sklearn.preprocessing import LabelEncoder\n",
    "\n",
    "encoder = LabelEncoder()\n",
    "y = encoder.fit_transform(data['outcome'])\n",
    "print(y)"
   ]
  },
  {
   "cell_type": "code",
   "execution_count": 6,
   "metadata": {},
   "outputs": [
    {
     "data": {
      "text/plain": [
       "Index(['a1', 'a2', 'a3', 'a4', 'a5', 'a6', 'b1', 'b2', 'b3', 'b4', 'b5', 'b6',\n",
       "       'c1', 'c2', 'c3', 'c4', 'c5', 'c6', 'd1', 'd2', 'd3', 'd4', 'd5', 'd6',\n",
       "       'e1', 'e2', 'e3', 'e4', 'e5', 'e6', 'f1', 'f2', 'f3', 'f4', 'f5', 'f6',\n",
       "       'g1', 'g2', 'g3', 'g4', 'g5', 'g6', 'outcome'],\n",
       "      dtype='object')"
      ]
     },
     "execution_count": 6,
     "metadata": {},
     "output_type": "execute_result"
    }
   ],
   "source": [
    "data.columns"
   ]
  },
  {
   "cell_type": "code",
   "execution_count": 7,
   "metadata": {},
   "outputs": [],
   "source": [
    "from sklearn.base import BaseEstimator, TransformerMixin \n",
    "\n",
    "class DataEncoder(BaseEstimator, TransformerMixin):\n",
    "    \n",
    "    def fit(self, X, y=None):\n",
    "        if not isinstance(X, pd.DataFrame):\n",
    "            raise TypeError(\n",
    "                \"This transformer only knows how to handle data frames!\"\n",
    "            )\n",
    "        \n",
    "        self.encoders = [\n",
    "            LabelEncoder().fit(X[column])\n",
    "            for column in X.columns\n",
    "        ]\n",
    "        return self\n",
    "    \n",
    "    def transform(self, X):\n",
    "        for idx, column in enumerate(X.columns):\n",
    "            X[column] = self.encoders[idx].transform(X[column])\n",
    "        return X\n",
    "    \n",
    "    def inverse_transform(self, X):\n",
    "        for idx, column in enumerate(X.columns):\n",
    "            X[column] = self.encoders[idx].inverse_transform(X[column])\n",
    "        return X"
   ]
  },
  {
   "cell_type": "code",
   "execution_count": 8,
   "metadata": {
    "collapsed": true
   },
   "outputs": [],
   "source": [
    "X = data[[\n",
    "    \"a1\", \"a2\", \"a3\", \"a4\", \"a5\", \"a6\",\n",
    "    \"b1\", \"b2\", \"b3\", \"b4\", \"b5\", \"b6\",\n",
    "    \"c1\", \"c2\", \"c3\", \"c4\", \"c5\", \"c6\",\n",
    "    \"d1\", \"d2\", \"d3\", \"d4\", \"d5\", \"d6\",\n",
    "    \"e1\", \"e2\", \"e3\", \"e4\", \"e5\", \"e6\",\n",
    "    \"f1\", \"f2\", \"f3\", \"f4\", \"f5\", \"f6\",\n",
    "    \"g1\", \"g2\", \"g3\", \"g4\", \"g5\", \"g6\",\n",
    "]]\n",
    "\n",
    "y = data[\"outcome\"]\n"
   ]
  },
  {
   "cell_type": "code",
   "execution_count": 17,
   "metadata": {},
   "outputs": [],
   "source": [
    "Xencoder = DataEncoder()\n",
    "yencoder = LabelEncoder() \n",
    "X = Xencoder.fit_transform(X)\n",
    "y = yencoder.fit_transform(y)"
   ]
  },
  {
   "cell_type": "code",
   "execution_count": 19,
   "metadata": {},
   "outputs": [],
   "source": [
    "from sklearn.model_selection import train_test_split as tts \n",
    "\n",
    "X_train, X_test, y_train, y_test = tts(X,y, test_size=.20)"
   ]
  },
  {
   "cell_type": "code",
   "execution_count": 23,
   "metadata": {},
   "outputs": [],
   "source": [
    "from sklearn.neighbors import KNeighborsClassifier\n",
    "from sklearn.tree import DecisionTreeClassifier\n",
    "from sklearn.ensemble import RandomForestClassifier\n",
    "from sklearn.naive_bayes import GaussianNB\n",
    "from sklearn.svm import SVC\n",
    "from sklearn.linear_model import LogisticRegression "
   ]
  },
  {
   "cell_type": "code",
   "execution_count": 31,
   "metadata": {
    "collapsed": true
   },
   "outputs": [],
   "source": [
    "model = GaussianNB()"
   ]
  },
  {
   "cell_type": "code",
   "execution_count": 32,
   "metadata": {},
   "outputs": [
    {
     "data": {
      "text/plain": [
       "GaussianNB(priors=None)"
      ]
     },
     "execution_count": 32,
     "metadata": {},
     "output_type": "execute_result"
    }
   ],
   "source": [
    "model.fit(X_train, y_train)"
   ]
  },
  {
   "cell_type": "code",
   "execution_count": 33,
   "metadata": {},
   "outputs": [
    {
     "data": {
      "text/plain": [
       "0.61108644168146831"
      ]
     },
     "execution_count": 33,
     "metadata": {},
     "output_type": "execute_result"
    }
   ],
   "source": [
    "model.score(X_test, y_test)"
   ]
  },
  {
   "cell_type": "code",
   "execution_count": 28,
   "metadata": {
    "collapsed": true
   },
   "outputs": [],
   "source": [
    "from sklearn.metrics import classification_report"
   ]
  },
  {
   "cell_type": "code",
   "execution_count": 34,
   "metadata": {},
   "outputs": [
    {
     "name": "stdout",
     "output_type": "stream",
     "text": [
      "             precision    recall  f1-score   support\n",
      "\n",
      "       draw       0.13      0.10      0.12      1307\n",
      "       loss       0.38      0.20      0.26      3258\n",
      "        win       0.69      0.83      0.76      8947\n",
      "\n",
      "avg / total       0.56      0.61      0.58     13512\n",
      "\n"
     ]
    }
   ],
   "source": [
    "y_pred = model.predict(X_test)\n",
    "print(classification_report(y_test, y_pred, target_names=yencoder.classes_))"
   ]
  },
  {
   "cell_type": "code",
   "execution_count": 35,
   "metadata": {},
   "outputs": [
    {
     "name": "stdout",
     "output_type": "stream",
     "text": [
      "0.636693309651\n",
      "             precision    recall  f1-score   support\n",
      "\n",
      "       draw       0.16      0.10      0.12      1307\n",
      "       loss       0.42      0.04      0.07      3258\n",
      "        win       0.67      0.93      0.78      8947\n",
      "\n",
      "avg / total       0.56      0.64      0.55     13512\n",
      "\n"
     ]
    }
   ],
   "source": [
    "from sklearn.naive_bayes import MultinomialNB\n",
    "\n",
    "model = MultinomialNB()\n",
    "model.fit(X_train, y_train)\n",
    "print(model.score(X_test, y_test))\n",
    "\n",
    "y_pred = model.predict(X_test)\n",
    "print(classification_report(y_test, y_pred, target_names=yencoder.classes_))"
   ]
  }
 ],
 "metadata": {
  "kernelspec": {
   "display_name": "Python 3",
   "language": "python",
   "name": "python3"
  },
  "language_info": {
   "codemirror_mode": {
    "name": "ipython",
    "version": 3
   },
   "file_extension": ".py",
   "mimetype": "text/x-python",
   "name": "python",
   "nbconvert_exporter": "python",
   "pygments_lexer": "ipython3",
   "version": "3.6.1"
  }
 },
 "nbformat": 4,
 "nbformat_minor": 2
}
